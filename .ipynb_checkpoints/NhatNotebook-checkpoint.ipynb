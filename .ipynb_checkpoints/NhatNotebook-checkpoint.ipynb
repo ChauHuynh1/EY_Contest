{
 "cells": [
  {
   "cell_type": "markdown",
   "id": "626a022d-5469-4e2c-aba7-c6b00be60b54",
   "metadata": {},
   "source": [
    "# Level 1: Rice Crop Discovery Tool Benchmark Notebook"
   ]
  },
  {
   "cell_type": "markdown",
   "id": "ccfd5ecb-92da-4356-860f-64cec7534b45",
   "metadata": {},
   "source": [
    "## Challenge Level 1 Overview"
   ]
  },
  {
   "cell_type": "markdown",
   "id": "e854b5f4-ee16-40da-a6d1-81898cc52aae",
   "metadata": {},
   "source": [
    "<p align=\"justify\">Welcome to the EY Open Science Data Challenge 2023! This challenge consists of two levels – Level 1 and Level 2. This is the Level 1 challenge aimed at participants who are beginners or have intermediate skill sets in data science and programming. The goal of Level 1 is to predict the presence of rice crops at a given location using satellite data. By the time you complete this level, you will have developed a rice crop classification model, which can distinguish between rice and non-rice fields. \n",
    "</p>"
   ]
  },
  {
   "cell_type": "markdown",
   "id": "5f5c6226-0341-48c1-82b6-3fb000064462",
   "metadata": {},
   "source": [
    "<b>Challenge Aim: </b><p align=\"justify\"> <p>"
   ]
  },
  {
   "cell_type": "markdown",
   "id": "8bdd1b29",
   "metadata": {},
   "source": [
    "<p align=\"justify\">In this notebook, we will demonstrate a basic model workflow that can serve as a starting point for the challenge. The basic model has been built to predict rice crops against non-rice crops (which might include forest, other vegetation and water bodies) using features from the Sentinel-1 Radiometrically Terrain Corrected (RTC)  dataset as predictor variables. In this demonstration, we have used two features from the Sentinel-1 dataset, namely VV (Vertical polarization – Vertical polarization) and VH (Vertical polarization – Horizontal polarization) and trained a logistic regression model with these features. We have extracted the VV band and VH band data from the Sentinel-1 dataset for one day (21st March 2020), with an assumption that VV and VH values for this day are representative of VV and VH values for the entire year (2020) for a given location.\n",
    "\n",
    "Most of the functions presented in this notebook were adapted from the <a href=\"https://planetarycomputer.microsoft.com/dataset/sentinel-1-rtc#Example-Notebook\">Sentinel-1-RTC notebook</a> found in the Planetary Computer portal.</p>\n",
    "    \n",
    "<p align=\"justify\"> Please note that this notebook is just a starting point. We have made many assumptions in this notebook that you may think are not best for solving the challenge effectively. You are encouraged to modify these functions, rewrite them, or try an entirely new approach.</p>"
   ]
  },
  {
   "cell_type": "markdown",
   "id": "2cb152d6-21e5-46c6-931d-11e99e6a6798",
   "metadata": {},
   "source": [
    "## Load In Dependencies"
   ]
  },
  {
   "cell_type": "markdown",
   "id": "093dca36-dae9-4b87-9026-7508740cd746",
   "metadata": {},
   "source": [
    "To run this demonstration notebook, you will need to have the following packages imported below installed. This may take some time.  "
   ]
  },
  {
   "cell_type": "markdown",
   "id": "c546caac-b5a5-494f-95e8-19a01e117492",
   "metadata": {},
   "source": [
    "#### Note: Environment setup\n",
    "Running this notebook requires an API key.\n",
    "\n",
    "To use your API key locally, set the environment variable <i><b>PC_SDK_SUBSCRIPTION_KEY</i></b> or use <i><b>planetary_computer.settings.set_subscription_key(<YOUR API Key>)</i></b><br>\n",
    "See <a href=\"https://planetarycomputer.microsoft.com/docs/concepts/sas/#when-an-account-is-needed\">when an account is needed for more </a>, and <a href=\"https://planetarycomputer.microsoft.com/account/request\">request</a> an account if needed."
   ]
  },
  {
   "cell_type": "code",
   "execution_count": 1,
   "id": "323ff912-41f6-4c8d-8181-839ad391360f",
   "metadata": {},
   "outputs": [
    {
     "name": "stdout",
     "output_type": "stream",
     "text": [
      "Python 3.9.13\n"
     ]
    }
   ],
   "source": [
    "%%bash\n",
    "python --version"
   ]
  },
  {
   "cell_type": "code",
   "execution_count": 2,
   "id": "7049b82b",
   "metadata": {},
   "outputs": [
    {
     "name": "stdout",
     "output_type": "stream",
     "text": [
      "Requirement already satisfied: ipyleaflet in /Users/chaunguyen/opt/anaconda3/lib/python3.9/site-packages (0.17.2)\n",
      "Requirement already satisfied: pystac in /Users/chaunguyen/opt/anaconda3/lib/python3.9/site-packages (1.6.1)\n",
      "Requirement already satisfied: rich in /Users/chaunguyen/opt/anaconda3/lib/python3.9/site-packages (13.3.1)\n",
      "Requirement already satisfied: tqdm in /Users/chaunguyen/opt/anaconda3/lib/python3.9/site-packages (4.64.1)\n",
      "Requirement already satisfied: odc-geo in /Users/chaunguyen/opt/anaconda3/lib/python3.9/site-packages (0.3.3)\n",
      "Requirement already satisfied: pystac-client in /Users/chaunguyen/opt/anaconda3/lib/python3.9/site-packages (0.6.0)\n",
      "Requirement already satisfied: planetary-computer in /Users/chaunguyen/opt/anaconda3/lib/python3.9/site-packages (0.4.9)\n",
      "Requirement already satisfied: odc-stac in /Users/chaunguyen/opt/anaconda3/lib/python3.9/site-packages (0.3.5)\n",
      "Requirement already satisfied: xyzservices>=2021.8.1 in /Users/chaunguyen/opt/anaconda3/lib/python3.9/site-packages (from ipyleaflet) (2022.9.0)\n",
      "Requirement already satisfied: branca>=0.5.0 in /Users/chaunguyen/opt/anaconda3/lib/python3.9/site-packages (from ipyleaflet) (0.6.0)\n",
      "Requirement already satisfied: ipywidgets<9,>=7.6.0 in /Users/chaunguyen/opt/anaconda3/lib/python3.9/site-packages (from ipyleaflet) (7.6.5)\n",
      "Requirement already satisfied: traittypes<3,>=0.2.1 in /Users/chaunguyen/opt/anaconda3/lib/python3.9/site-packages (from ipyleaflet) (0.2.1)\n",
      "Requirement already satisfied: python-dateutil>=2.7.0 in /Users/chaunguyen/opt/anaconda3/lib/python3.9/site-packages (from pystac) (2.8.2)\n",
      "Requirement already satisfied: markdown-it-py<3.0.0,>=2.1.0 in /Users/chaunguyen/opt/anaconda3/lib/python3.9/site-packages (from rich) (2.1.0)\n",
      "Requirement already satisfied: pygments<3.0.0,>=2.14.0 in /Users/chaunguyen/opt/anaconda3/lib/python3.9/site-packages (from rich) (2.14.0)\n",
      "Requirement already satisfied: pyproj>=3.0.0 in /Users/chaunguyen/opt/anaconda3/lib/python3.9/site-packages (from odc-geo) (3.4.1)\n",
      "Requirement already satisfied: affine in /Users/chaunguyen/opt/anaconda3/lib/python3.9/site-packages (from odc-geo) (2.4.0)\n",
      "Requirement already satisfied: numpy in /Users/chaunguyen/opt/anaconda3/lib/python3.9/site-packages (from odc-geo) (1.21.5)\n",
      "Requirement already satisfied: cachetools in /Users/chaunguyen/opt/anaconda3/lib/python3.9/site-packages (from odc-geo) (5.3.0)\n",
      "Requirement already satisfied: shapely in /Users/chaunguyen/opt/anaconda3/lib/python3.9/site-packages (from odc-geo) (2.0.1)\n",
      "Requirement already satisfied: requests>=2.27.1 in /Users/chaunguyen/opt/anaconda3/lib/python3.9/site-packages (from pystac-client) (2.28.1)\n",
      "Requirement already satisfied: pytz>=2020.5 in /Users/chaunguyen/opt/anaconda3/lib/python3.9/site-packages (from planetary-computer) (2022.1)\n",
      "Requirement already satisfied: click>=7.1 in /Users/chaunguyen/opt/anaconda3/lib/python3.9/site-packages (from planetary-computer) (8.0.4)\n",
      "Requirement already satisfied: pydantic[dotenv]>=1.7.3 in /Users/chaunguyen/opt/anaconda3/lib/python3.9/site-packages (from planetary-computer) (1.10.4)\n",
      "Requirement already satisfied: rasterio!=1.3.0,!=1.3.1,>=1.0.0 in /Users/chaunguyen/opt/anaconda3/lib/python3.9/site-packages (from odc-stac) (1.3.5.post1)\n",
      "Requirement already satisfied: toolz in /Users/chaunguyen/opt/anaconda3/lib/python3.9/site-packages (from odc-stac) (0.11.2)\n",
      "Requirement already satisfied: pandas in /Users/chaunguyen/opt/anaconda3/lib/python3.9/site-packages (from odc-stac) (1.4.4)\n",
      "Requirement already satisfied: xarray>=0.19 in /Users/chaunguyen/opt/anaconda3/lib/python3.9/site-packages (from odc-stac) (0.20.1)\n",
      "Requirement already satisfied: dask[array] in /Users/chaunguyen/opt/anaconda3/lib/python3.9/site-packages (from odc-stac) (2022.7.0)\n",
      "Requirement already satisfied: jinja2 in /Users/chaunguyen/opt/anaconda3/lib/python3.9/site-packages (from branca>=0.5.0->ipyleaflet) (2.11.3)\n",
      "Requirement already satisfied: widgetsnbextension~=3.5.0 in /Users/chaunguyen/opt/anaconda3/lib/python3.9/site-packages (from ipywidgets<9,>=7.6.0->ipyleaflet) (3.5.2)\n",
      "Requirement already satisfied: nbformat>=4.2.0 in /Users/chaunguyen/opt/anaconda3/lib/python3.9/site-packages (from ipywidgets<9,>=7.6.0->ipyleaflet) (5.5.0)\n",
      "Requirement already satisfied: ipython-genutils~=0.2.0 in /Users/chaunguyen/opt/anaconda3/lib/python3.9/site-packages (from ipywidgets<9,>=7.6.0->ipyleaflet) (0.2.0)\n",
      "Requirement already satisfied: ipython>=4.0.0 in /Users/chaunguyen/opt/anaconda3/lib/python3.9/site-packages (from ipywidgets<9,>=7.6.0->ipyleaflet) (7.31.1)\n",
      "Requirement already satisfied: ipykernel>=4.5.1 in /Users/chaunguyen/opt/anaconda3/lib/python3.9/site-packages (from ipywidgets<9,>=7.6.0->ipyleaflet) (6.15.2)\n",
      "Requirement already satisfied: jupyterlab-widgets>=1.0.0 in /Users/chaunguyen/opt/anaconda3/lib/python3.9/site-packages (from ipywidgets<9,>=7.6.0->ipyleaflet) (1.0.0)\n",
      "Requirement already satisfied: traitlets>=4.3.1 in /Users/chaunguyen/opt/anaconda3/lib/python3.9/site-packages (from ipywidgets<9,>=7.6.0->ipyleaflet) (5.1.1)\n",
      "Requirement already satisfied: mdurl~=0.1 in /Users/chaunguyen/opt/anaconda3/lib/python3.9/site-packages (from markdown-it-py<3.0.0,>=2.1.0->rich) (0.1.2)\n",
      "Requirement already satisfied: typing-extensions>=4.2.0 in /Users/chaunguyen/opt/anaconda3/lib/python3.9/site-packages (from pydantic[dotenv]>=1.7.3->planetary-computer) (4.3.0)\n",
      "Requirement already satisfied: python-dotenv>=0.10.4 in /Users/chaunguyen/opt/anaconda3/lib/python3.9/site-packages (from pydantic[dotenv]>=1.7.3->planetary-computer) (0.21.1)\n",
      "Requirement already satisfied: certifi in /Users/chaunguyen/opt/anaconda3/lib/python3.9/site-packages (from pyproj>=3.0.0->odc-geo) (2022.9.24)\n",
      "Requirement already satisfied: six>=1.5 in /Users/chaunguyen/opt/anaconda3/lib/python3.9/site-packages (from python-dateutil>=2.7.0->pystac) (1.16.0)\n",
      "Requirement already satisfied: snuggs>=1.4.1 in /Users/chaunguyen/opt/anaconda3/lib/python3.9/site-packages (from rasterio!=1.3.0,!=1.3.1,>=1.0.0->odc-stac) (1.4.7)\n",
      "Requirement already satisfied: cligj>=0.5 in /Users/chaunguyen/opt/anaconda3/lib/python3.9/site-packages (from rasterio!=1.3.0,!=1.3.1,>=1.0.0->odc-stac) (0.7.2)\n",
      "Requirement already satisfied: click-plugins in /Users/chaunguyen/opt/anaconda3/lib/python3.9/site-packages (from rasterio!=1.3.0,!=1.3.1,>=1.0.0->odc-stac) (1.1.1)\n",
      "Requirement already satisfied: attrs in /Users/chaunguyen/opt/anaconda3/lib/python3.9/site-packages (from rasterio!=1.3.0,!=1.3.1,>=1.0.0->odc-stac) (21.4.0)\n",
      "Requirement already satisfied: setuptools in /Users/chaunguyen/opt/anaconda3/lib/python3.9/site-packages (from rasterio!=1.3.0,!=1.3.1,>=1.0.0->odc-stac) (63.4.1)\n",
      "Requirement already satisfied: charset-normalizer<3,>=2 in /Users/chaunguyen/opt/anaconda3/lib/python3.9/site-packages (from requests>=2.27.1->pystac-client) (2.0.4)\n",
      "Requirement already satisfied: urllib3<1.27,>=1.21.1 in /Users/chaunguyen/opt/anaconda3/lib/python3.9/site-packages (from requests>=2.27.1->pystac-client) (1.26.11)\n",
      "Requirement already satisfied: idna<4,>=2.5 in /Users/chaunguyen/opt/anaconda3/lib/python3.9/site-packages (from requests>=2.27.1->pystac-client) (3.3)\n",
      "Requirement already satisfied: fsspec>=0.6.0 in /Users/chaunguyen/opt/anaconda3/lib/python3.9/site-packages (from dask[array]->odc-stac) (2022.7.1)\n",
      "Requirement already satisfied: pyyaml>=5.3.1 in /Users/chaunguyen/opt/anaconda3/lib/python3.9/site-packages (from dask[array]->odc-stac) (6.0)\n",
      "Requirement already satisfied: cloudpickle>=1.1.1 in /Users/chaunguyen/opt/anaconda3/lib/python3.9/site-packages (from dask[array]->odc-stac) (2.0.0)\n",
      "Requirement already satisfied: packaging>=20.0 in /Users/chaunguyen/opt/anaconda3/lib/python3.9/site-packages (from dask[array]->odc-stac) (21.3)\n",
      "Requirement already satisfied: partd>=0.3.10 in /Users/chaunguyen/opt/anaconda3/lib/python3.9/site-packages (from dask[array]->odc-stac) (1.2.0)\n",
      "Requirement already satisfied: psutil in /Users/chaunguyen/opt/anaconda3/lib/python3.9/site-packages (from ipykernel>=4.5.1->ipywidgets<9,>=7.6.0->ipyleaflet) (5.9.0)\n",
      "Requirement already satisfied: debugpy>=1.0 in /Users/chaunguyen/opt/anaconda3/lib/python3.9/site-packages (from ipykernel>=4.5.1->ipywidgets<9,>=7.6.0->ipyleaflet) (1.5.1)\n",
      "Requirement already satisfied: appnope in /Users/chaunguyen/opt/anaconda3/lib/python3.9/site-packages (from ipykernel>=4.5.1->ipywidgets<9,>=7.6.0->ipyleaflet) (0.1.2)\n",
      "Requirement already satisfied: tornado>=6.1 in /Users/chaunguyen/opt/anaconda3/lib/python3.9/site-packages (from ipykernel>=4.5.1->ipywidgets<9,>=7.6.0->ipyleaflet) (6.1)\n",
      "Requirement already satisfied: pyzmq>=17 in /Users/chaunguyen/opt/anaconda3/lib/python3.9/site-packages (from ipykernel>=4.5.1->ipywidgets<9,>=7.6.0->ipyleaflet) (23.2.0)\n",
      "Requirement already satisfied: matplotlib-inline>=0.1 in /Users/chaunguyen/opt/anaconda3/lib/python3.9/site-packages (from ipykernel>=4.5.1->ipywidgets<9,>=7.6.0->ipyleaflet) (0.1.6)\n",
      "Requirement already satisfied: jupyter-client>=6.1.12 in /Users/chaunguyen/opt/anaconda3/lib/python3.9/site-packages (from ipykernel>=4.5.1->ipywidgets<9,>=7.6.0->ipyleaflet) (7.3.4)\n",
      "Requirement already satisfied: nest-asyncio in /Users/chaunguyen/opt/anaconda3/lib/python3.9/site-packages (from ipykernel>=4.5.1->ipywidgets<9,>=7.6.0->ipyleaflet) (1.5.5)\n",
      "Requirement already satisfied: backcall in /Users/chaunguyen/opt/anaconda3/lib/python3.9/site-packages (from ipython>=4.0.0->ipywidgets<9,>=7.6.0->ipyleaflet) (0.2.0)\n",
      "Requirement already satisfied: pexpect>4.3 in /Users/chaunguyen/opt/anaconda3/lib/python3.9/site-packages (from ipython>=4.0.0->ipywidgets<9,>=7.6.0->ipyleaflet) (4.8.0)\n",
      "Requirement already satisfied: decorator in /Users/chaunguyen/opt/anaconda3/lib/python3.9/site-packages (from ipython>=4.0.0->ipywidgets<9,>=7.6.0->ipyleaflet) (5.1.1)\n",
      "Requirement already satisfied: pickleshare in /Users/chaunguyen/opt/anaconda3/lib/python3.9/site-packages (from ipython>=4.0.0->ipywidgets<9,>=7.6.0->ipyleaflet) (0.7.5)\n",
      "Requirement already satisfied: prompt-toolkit!=3.0.0,!=3.0.1,<3.1.0,>=2.0.0 in /Users/chaunguyen/opt/anaconda3/lib/python3.9/site-packages (from ipython>=4.0.0->ipywidgets<9,>=7.6.0->ipyleaflet) (3.0.20)\n",
      "Requirement already satisfied: jedi>=0.16 in /Users/chaunguyen/opt/anaconda3/lib/python3.9/site-packages (from ipython>=4.0.0->ipywidgets<9,>=7.6.0->ipyleaflet) (0.18.1)\n",
      "Requirement already satisfied: jsonschema>=2.6 in /Users/chaunguyen/opt/anaconda3/lib/python3.9/site-packages (from nbformat>=4.2.0->ipywidgets<9,>=7.6.0->ipyleaflet) (4.16.0)\n",
      "Requirement already satisfied: fastjsonschema in /Users/chaunguyen/opt/anaconda3/lib/python3.9/site-packages (from nbformat>=4.2.0->ipywidgets<9,>=7.6.0->ipyleaflet) (2.16.2)\n",
      "Requirement already satisfied: jupyter_core in /Users/chaunguyen/opt/anaconda3/lib/python3.9/site-packages (from nbformat>=4.2.0->ipywidgets<9,>=7.6.0->ipyleaflet) (4.11.1)\n",
      "Requirement already satisfied: pyparsing!=3.0.5,>=2.0.2 in /Users/chaunguyen/opt/anaconda3/lib/python3.9/site-packages (from packaging>=20.0->dask[array]->odc-stac) (3.0.9)\n",
      "Requirement already satisfied: locket in /Users/chaunguyen/opt/anaconda3/lib/python3.9/site-packages (from partd>=0.3.10->dask[array]->odc-stac) (1.0.0)\n",
      "Requirement already satisfied: notebook>=4.4.1 in /Users/chaunguyen/opt/anaconda3/lib/python3.9/site-packages (from widgetsnbextension~=3.5.0->ipywidgets<9,>=7.6.0->ipyleaflet) (6.4.12)\n",
      "Requirement already satisfied: MarkupSafe>=0.23 in /Users/chaunguyen/opt/anaconda3/lib/python3.9/site-packages (from jinja2->branca>=0.5.0->ipyleaflet) (2.0.1)\n",
      "Requirement already satisfied: parso<0.9.0,>=0.8.0 in /Users/chaunguyen/opt/anaconda3/lib/python3.9/site-packages (from jedi>=0.16->ipython>=4.0.0->ipywidgets<9,>=7.6.0->ipyleaflet) (0.8.3)\n",
      "Requirement already satisfied: pyrsistent!=0.17.0,!=0.17.1,!=0.17.2,>=0.14.0 in /Users/chaunguyen/opt/anaconda3/lib/python3.9/site-packages (from jsonschema>=2.6->nbformat>=4.2.0->ipywidgets<9,>=7.6.0->ipyleaflet) (0.18.0)\n",
      "Requirement already satisfied: entrypoints in /Users/chaunguyen/opt/anaconda3/lib/python3.9/site-packages (from jupyter-client>=6.1.12->ipykernel>=4.5.1->ipywidgets<9,>=7.6.0->ipyleaflet) (0.4)\n",
      "Requirement already satisfied: prometheus-client in /Users/chaunguyen/opt/anaconda3/lib/python3.9/site-packages (from notebook>=4.4.1->widgetsnbextension~=3.5.0->ipywidgets<9,>=7.6.0->ipyleaflet) (0.14.1)\n",
      "Requirement already satisfied: nbconvert>=5 in /Users/chaunguyen/opt/anaconda3/lib/python3.9/site-packages (from notebook>=4.4.1->widgetsnbextension~=3.5.0->ipywidgets<9,>=7.6.0->ipyleaflet) (6.4.4)\n",
      "Requirement already satisfied: argon2-cffi in /Users/chaunguyen/opt/anaconda3/lib/python3.9/site-packages (from notebook>=4.4.1->widgetsnbextension~=3.5.0->ipywidgets<9,>=7.6.0->ipyleaflet) (21.3.0)\n",
      "Requirement already satisfied: Send2Trash>=1.8.0 in /Users/chaunguyen/opt/anaconda3/lib/python3.9/site-packages (from notebook>=4.4.1->widgetsnbextension~=3.5.0->ipywidgets<9,>=7.6.0->ipyleaflet) (1.8.0)\n",
      "Requirement already satisfied: terminado>=0.8.3 in /Users/chaunguyen/opt/anaconda3/lib/python3.9/site-packages (from notebook>=4.4.1->widgetsnbextension~=3.5.0->ipywidgets<9,>=7.6.0->ipyleaflet) (0.13.1)\n",
      "Requirement already satisfied: ptyprocess>=0.5 in /Users/chaunguyen/opt/anaconda3/lib/python3.9/site-packages (from pexpect>4.3->ipython>=4.0.0->ipywidgets<9,>=7.6.0->ipyleaflet) (0.7.0)\n",
      "Requirement already satisfied: wcwidth in /Users/chaunguyen/opt/anaconda3/lib/python3.9/site-packages (from prompt-toolkit!=3.0.0,!=3.0.1,<3.1.0,>=2.0.0->ipython>=4.0.0->ipywidgets<9,>=7.6.0->ipyleaflet) (0.2.5)\n",
      "Requirement already satisfied: testpath in /Users/chaunguyen/opt/anaconda3/lib/python3.9/site-packages (from nbconvert>=5->notebook>=4.4.1->widgetsnbextension~=3.5.0->ipywidgets<9,>=7.6.0->ipyleaflet) (0.6.0)\n",
      "Requirement already satisfied: nbclient<0.6.0,>=0.5.0 in /Users/chaunguyen/opt/anaconda3/lib/python3.9/site-packages (from nbconvert>=5->notebook>=4.4.1->widgetsnbextension~=3.5.0->ipywidgets<9,>=7.6.0->ipyleaflet) (0.5.13)\n",
      "Requirement already satisfied: jupyterlab-pygments in /Users/chaunguyen/opt/anaconda3/lib/python3.9/site-packages (from nbconvert>=5->notebook>=4.4.1->widgetsnbextension~=3.5.0->ipywidgets<9,>=7.6.0->ipyleaflet) (0.1.2)\n",
      "Requirement already satisfied: defusedxml in /Users/chaunguyen/opt/anaconda3/lib/python3.9/site-packages (from nbconvert>=5->notebook>=4.4.1->widgetsnbextension~=3.5.0->ipywidgets<9,>=7.6.0->ipyleaflet) (0.7.1)\n",
      "Requirement already satisfied: mistune<2,>=0.8.1 in /Users/chaunguyen/opt/anaconda3/lib/python3.9/site-packages (from nbconvert>=5->notebook>=4.4.1->widgetsnbextension~=3.5.0->ipywidgets<9,>=7.6.0->ipyleaflet) (0.8.4)\n",
      "Requirement already satisfied: beautifulsoup4 in /Users/chaunguyen/opt/anaconda3/lib/python3.9/site-packages (from nbconvert>=5->notebook>=4.4.1->widgetsnbextension~=3.5.0->ipywidgets<9,>=7.6.0->ipyleaflet) (4.11.1)\n",
      "Requirement already satisfied: bleach in /Users/chaunguyen/opt/anaconda3/lib/python3.9/site-packages (from nbconvert>=5->notebook>=4.4.1->widgetsnbextension~=3.5.0->ipywidgets<9,>=7.6.0->ipyleaflet) (4.1.0)\n",
      "Requirement already satisfied: pandocfilters>=1.4.1 in /Users/chaunguyen/opt/anaconda3/lib/python3.9/site-packages (from nbconvert>=5->notebook>=4.4.1->widgetsnbextension~=3.5.0->ipywidgets<9,>=7.6.0->ipyleaflet) (1.5.0)\n",
      "Requirement already satisfied: argon2-cffi-bindings in /Users/chaunguyen/opt/anaconda3/lib/python3.9/site-packages (from argon2-cffi->notebook>=4.4.1->widgetsnbextension~=3.5.0->ipywidgets<9,>=7.6.0->ipyleaflet) (21.2.0)\n",
      "Requirement already satisfied: cffi>=1.0.1 in /Users/chaunguyen/opt/anaconda3/lib/python3.9/site-packages (from argon2-cffi-bindings->argon2-cffi->notebook>=4.4.1->widgetsnbextension~=3.5.0->ipywidgets<9,>=7.6.0->ipyleaflet) (1.15.1)\n",
      "Requirement already satisfied: soupsieve>1.2 in /Users/chaunguyen/opt/anaconda3/lib/python3.9/site-packages (from beautifulsoup4->nbconvert>=5->notebook>=4.4.1->widgetsnbextension~=3.5.0->ipywidgets<9,>=7.6.0->ipyleaflet) (2.3.1)\n",
      "Requirement already satisfied: webencodings in /Users/chaunguyen/opt/anaconda3/lib/python3.9/site-packages (from bleach->nbconvert>=5->notebook>=4.4.1->widgetsnbextension~=3.5.0->ipywidgets<9,>=7.6.0->ipyleaflet) (0.5.1)\n",
      "Requirement already satisfied: pycparser in /Users/chaunguyen/opt/anaconda3/lib/python3.9/site-packages (from cffi>=1.0.1->argon2-cffi-bindings->argon2-cffi->notebook>=4.4.1->widgetsnbextension~=3.5.0->ipywidgets<9,>=7.6.0->ipyleaflet) (2.21)\n"
     ]
    }
   ],
   "source": [
    "%%bash\n",
    "pip install ipyleaflet pystac rich tqdm odc-geo pystac-client planetary-computer odc-stac"
   ]
  },
  {
   "cell_type": "code",
   "execution_count": 3,
   "id": "3a03723e-78ae-4150-ba22-e2e485b95cdb",
   "metadata": {},
   "outputs": [],
   "source": [
    "# Supress Warnings\n",
    "import warnings\n",
    "warnings.filterwarnings('ignore')\n",
    "\n",
    "# Visualization\n",
    "# import ipyleaflet\n",
    "import matplotlib.pyplot as plt\n",
    "from IPython.display import Image\n",
    "import seaborn as sns\n",
    "\n",
    "# Data Science\n",
    "import numpy as np\n",
    "import pandas as pd\n",
    "\n",
    "# Feature Engineering\n",
    "from sklearn.preprocessing import StandardScaler\n",
    "from sklearn.model_selection import train_test_split\n",
    "\n",
    "# Machine Learning\n",
    "from sklearn.linear_model import LogisticRegression\n",
    "from sklearn.metrics import f1_score, accuracy_score,classification_report,confusion_matrix\n",
    "\n",
    "# Planetary Computer Tools\n",
    "import pystac\n",
    "import pystac_client\n",
    "import odc\n",
    "from pystac_client import Client\n",
    "from pystac.extensions.eo import EOExtension as eo\n",
    "from odc.stac import stac_load\n",
    "import planetary_computer as pc\n",
    "pc.settings.set_subscription_key('key')\n",
    "\n",
    "# Others\n",
    "import requests\n",
    "import rich.table\n",
    "from itertools import cycle\n",
    "from tqdm import tqdm\n",
    "tqdm.pandas()"
   ]
  },
  {
   "cell_type": "markdown",
   "id": "1c268cf6",
   "metadata": {},
   "source": [
    "## Response Variable"
   ]
  },
  {
   "cell_type": "markdown",
   "id": "f80dbf04",
   "metadata": {},
   "source": [
    "Before building the model, we need to load in the rice crop presence data. We have curated for you data from a certain region in Vietnam for the year 2020. The data consists of  geo locations (Latitude and Longitude) with a tag specifying if the crop present in each geo location is rice or not.  "
   ]
  },
  {
   "cell_type": "markdown",
   "id": "30452a78-8721-42af-a744-b935737fc451",
   "metadata": {},
   "source": [
    "### Exploratory Data Analysis"
   ]
  },
  {
   "cell_type": "code",
   "execution_count": 4,
   "id": "0f1da678",
   "metadata": {},
   "outputs": [],
   "source": [
    "crop_presence_data = pd.read_csv(\"./Crop_Location_Data.csv\")\n",
    "crop_presence_data_eda = crop_presence_data\n",
    "# Parse Latitudes and Longitudes into separate columns for each\n",
    "# Remove the first and last characters of the string and convert the number to float\n",
    "crop_presence_data_eda['Latitude and Longitude'] = crop_presence_data['Latitude and Longitude'].apply(lambda x: x[1:-1])\n",
    "crop_presence_data_eda['Longitude'] = crop_presence_data['Latitude and Longitude'].apply(lambda x: x.split(',')[1]).astype(float)\n",
    "crop_presence_data_eda['Latitude'] = crop_presence_data['Latitude and Longitude'].apply(lambda x: x.split(',')[0]).astype(float)"
   ]
  },
  {
   "cell_type": "code",
   "execution_count": 5,
   "id": "133f36a6",
   "metadata": {},
   "outputs": [
    {
     "name": "stdout",
     "output_type": "stream",
     "text": [
      "<class 'pandas.core.frame.DataFrame'>\n",
      "RangeIndex: 600 entries, 0 to 599\n",
      "Data columns (total 4 columns):\n",
      " #   Column                  Non-Null Count  Dtype  \n",
      "---  ------                  --------------  -----  \n",
      " 0   Latitude and Longitude  600 non-null    object \n",
      " 1   Class of Land           600 non-null    object \n",
      " 2   Longitude               600 non-null    float64\n",
      " 3   Latitude                600 non-null    float64\n",
      "dtypes: float64(2), object(2)\n",
      "memory usage: 18.9+ KB\n"
     ]
    }
   ],
   "source": [
    "crop_presence_data_eda.info()"
   ]
  },
  {
   "cell_type": "code",
   "execution_count": 6,
   "id": "86cc181c-b4d5-457a-bc4f-baf596d45458",
   "metadata": {},
   "outputs": [
    {
     "data": {
      "text/html": [
       "<div>\n",
       "<style scoped>\n",
       "    .dataframe tbody tr th:only-of-type {\n",
       "        vertical-align: middle;\n",
       "    }\n",
       "\n",
       "    .dataframe tbody tr th {\n",
       "        vertical-align: top;\n",
       "    }\n",
       "\n",
       "    .dataframe thead th {\n",
       "        text-align: right;\n",
       "    }\n",
       "</style>\n",
       "<table border=\"1\" class=\"dataframe\">\n",
       "  <thead>\n",
       "    <tr style=\"text-align: right;\">\n",
       "      <th></th>\n",
       "      <th>Longitude</th>\n",
       "      <th>Latitude</th>\n",
       "    </tr>\n",
       "  </thead>\n",
       "  <tbody>\n",
       "    <tr>\n",
       "      <th>count</th>\n",
       "      <td>600.000000</td>\n",
       "      <td>600.000000</td>\n",
       "    </tr>\n",
       "    <tr>\n",
       "      <th>mean</th>\n",
       "      <td>105.386662</td>\n",
       "      <td>10.221962</td>\n",
       "    </tr>\n",
       "    <tr>\n",
       "      <th>std</th>\n",
       "      <td>0.266264</td>\n",
       "      <td>0.204505</td>\n",
       "    </tr>\n",
       "    <tr>\n",
       "      <th>min</th>\n",
       "      <td>104.911508</td>\n",
       "      <td>9.944900</td>\n",
       "    </tr>\n",
       "    <tr>\n",
       "      <th>25%</th>\n",
       "      <td>105.241642</td>\n",
       "      <td>10.005994</td>\n",
       "    </tr>\n",
       "    <tr>\n",
       "      <th>50%</th>\n",
       "      <td>105.495555</td>\n",
       "      <td>10.321456</td>\n",
       "    </tr>\n",
       "    <tr>\n",
       "      <th>75%</th>\n",
       "      <td>105.532825</td>\n",
       "      <td>10.358544</td>\n",
       "    </tr>\n",
       "    <tr>\n",
       "      <th>max</th>\n",
       "      <td>105.813516</td>\n",
       "      <td>10.482071</td>\n",
       "    </tr>\n",
       "  </tbody>\n",
       "</table>\n",
       "</div>"
      ],
      "text/plain": [
       "        Longitude    Latitude\n",
       "count  600.000000  600.000000\n",
       "mean   105.386662   10.221962\n",
       "std      0.266264    0.204505\n",
       "min    104.911508    9.944900\n",
       "25%    105.241642   10.005994\n",
       "50%    105.495555   10.321456\n",
       "75%    105.532825   10.358544\n",
       "max    105.813516   10.482071"
      ]
     },
     "execution_count": 6,
     "metadata": {},
     "output_type": "execute_result"
    }
   ],
   "source": [
    "crop_presence_data_eda.describe()"
   ]
  },
  {
   "cell_type": "code",
   "execution_count": 7,
   "id": "8c60c407",
   "metadata": {},
   "outputs": [
    {
     "data": {
      "text/plain": [
       "Text(0.5, 1.0, 'Longitude Distribution')"
      ]
     },
     "execution_count": 7,
     "metadata": {},
     "output_type": "execute_result"
    },
    {
     "data": {
      "image/png": "[encoded data removed]",
      "text/plain": [
       "<Figure size 1000x500 with 1 Axes>"
      ]
     },
     "metadata": {},
     "output_type": "display_data"
    }
   ],
   "source": [
    "#Check longtitude and latitude øutliers \n",
    "#Plot histogram of longtitude\n",
    "plt.figure(figsize=(10,5))\n",
    "plt.hist(crop_presence_data_eda['Longitude'], bins=100)\n",
    "plt.title('Longitude Distribution')"
   ]
  },
  {
   "cell_type": "code",
   "execution_count": 8,
   "id": "1def26c4",
   "metadata": {},
   "outputs": [
    {
     "data": {
      "text/plain": [
       "Text(0.5, 1.0, 'Latitude Distribution')"
      ]
     },
     "execution_count": 8,
     "metadata": {},
     "output_type": "execute_result"
    },
    {
     "data": {
      "image/png": "[encoded data removed]",
      "text/plain": [
       "<Figure size 1000x500 with 1 Axes>"
      ]
     },
     "metadata": {},
     "output_type": "display_data"
    }
   ],
   "source": [
    "plt.figure(figsize=(10,5))\n",
    "plt.hist(crop_presence_data_eda['Latitude'], bins=100)\n",
    "plt.title('Latitude Distribution')"
   ]
  },
  {
   "cell_type": "code",
   "execution_count": 9,
   "id": "f12eeb79",
   "metadata": {},
   "outputs": [],
   "source": [
    "# Plot sample lat/long on a map\n",
    "# Parse lat and long\n",
    "import ipyleaflet\n",
    "\n",
    "m = ipyleaflet.Map(center=(crop_presence_data_eda['Latitude'].mean(), crop_presence_data_eda['Longitude'].mean()), zoom=10)\n",
    "# Put the marker on the map and display it\n",
    "# Add a list of marker on the map\n",
    "marker = []\n",
    "#Add a marker for each row in the data, use a clustered view\n",
    "for index, row in crop_presence_data_eda.iterrows():\n",
    "    marker.append(ipyleaflet.Marker(location=(row['Latitude'], row['Longitude']), draggable=False))\n",
    "\n",
    "marker_cluster = ipyleaflet.MarkerCluster(markers=marker)\n",
    "m.add_layer(ipyleaflet.TileLayer(opacity=1.0))\n",
    "m.add_layer(marker_cluster)"
   ]
  },
  {
   "cell_type": "code",
   "execution_count": 10,
   "id": "c355ca09-004d-4e45-8422-44ce0452ced0",
   "metadata": {},
   "outputs": [
    {
     "data": {
      "application/vnd.jupyter.widget-view+json": {
       "model_id": "d96f9872491e41a9a8c89c3739a474c0",
       "version_major": 2,
       "version_minor": 0
      },
      "text/plain": [
       "Map(center=[10.221961620084475, 105.38666245173177], controls=(ZoomControl(options=['position', 'zoom_in_text'…"
      ]
     },
     "metadata": {},
     "output_type": "display_data"
    }
   ],
   "source": [
    "display(m)"
   ]
  },
  {
   "cell_type": "code",
   "execution_count": 11,
   "id": "f97ac429",
   "metadata": {},
   "outputs": [
    {
     "data": {
      "text/plain": [
       "<AxesSubplot:ylabel='Class of Land'>"
      ]
     },
     "execution_count": 11,
     "metadata": {},
     "output_type": "execute_result"
    },
    {
     "data": {
      "image/png": "[encoded data removed]",
      "text/plain": [
       "<Figure size 640x480 with 1 Axes>"
      ]
     },
     "metadata": {},
     "output_type": "display_data"
    }
   ],
   "source": [
    "# Plot the number of classes in Class of Land variable\n",
    "sns.set_style('darkgrid')\n",
    "sns.barplot(x=crop_presence_data_eda['Class of Land'].value_counts().index, y=crop_presence_data['Class of Land'].value_counts())\n"
   ]
  },
  {
   "cell_type": "markdown",
   "id": "7d404773-b817-4d31-a4a6-e4822f886f17",
   "metadata": {},
   "source": [
    "#### Submission dataset"
   ]
  },
  {
   "cell_type": "code",
   "execution_count": 12,
   "id": "39591df5-bc9d-436e-91b2-08cccc70319a",
   "metadata": {},
   "outputs": [
    {
     "data": {
      "text/html": [
       "<div>\n",
       "<style scoped>\n",
       "    .dataframe tbody tr th:only-of-type {\n",
       "        vertical-align: middle;\n",
       "    }\n",
       "\n",
       "    .dataframe tbody tr th {\n",
       "        vertical-align: top;\n",
       "    }\n",
       "\n",
       "    .dataframe thead th {\n",
       "        text-align: right;\n",
       "    }\n",
       "</style>\n",
       "<table border=\"1\" class=\"dataframe\">\n",
       "  <thead>\n",
       "    <tr style=\"text-align: right;\">\n",
       "      <th></th>\n",
       "      <th>Latitude and Longitude</th>\n",
       "    </tr>\n",
       "  </thead>\n",
       "  <tbody>\n",
       "    <tr>\n",
       "      <th>0</th>\n",
       "      <td>(10.18019073690894, 105.32022315786804)</td>\n",
       "    </tr>\n",
       "    <tr>\n",
       "      <th>1</th>\n",
       "      <td>(10.561107033461816, 105.12772097986661)</td>\n",
       "    </tr>\n",
       "    <tr>\n",
       "      <th>2</th>\n",
       "      <td>(10.623790611954897, 105.13771401411867)</td>\n",
       "    </tr>\n",
       "    <tr>\n",
       "      <th>3</th>\n",
       "      <td>(10.583364246115156, 105.23946127195805)</td>\n",
       "    </tr>\n",
       "    <tr>\n",
       "      <th>4</th>\n",
       "      <td>(10.20744446668854, 105.26844107128906)</td>\n",
       "    </tr>\n",
       "  </tbody>\n",
       "</table>\n",
       "</div>"
      ],
      "text/plain": [
       "                     Latitude and Longitude\n",
       "0   (10.18019073690894, 105.32022315786804)\n",
       "1  (10.561107033461816, 105.12772097986661)\n",
       "2  (10.623790611954897, 105.13771401411867)\n",
       "3  (10.583364246115156, 105.23946127195805)\n",
       "4   (10.20744446668854, 105.26844107128906)"
      ]
     },
     "execution_count": 12,
     "metadata": {},
     "output_type": "execute_result"
    }
   ],
   "source": [
    "#Reading the coordinates for the submission\n",
    "test_file = pd.read_csv('challenge_1_submission_template.csv')\n",
    "test_file.head()"
   ]
  },
  {
   "cell_type": "code",
   "execution_count": 13,
   "id": "5e2c2c50-e858-4dea-8cf5-b41856bf5ee7",
   "metadata": {},
   "outputs": [
    {
     "name": "stdout",
     "output_type": "stream",
     "text": [
      "<class 'pandas.core.frame.DataFrame'>\n",
      "RangeIndex: 250 entries, 0 to 249\n",
      "Data columns (total 1 columns):\n",
      " #   Column                  Non-Null Count  Dtype \n",
      "---  ------                  --------------  ----- \n",
      " 0   Latitude and Longitude  250 non-null    object\n",
      "dtypes: object(1)\n",
      "memory usage: 2.1+ KB\n"
     ]
    }
   ],
   "source": [
    "test_file_eda = test_file.copy()\n",
    "test_file.info()"
   ]
  },
  {
   "cell_type": "code",
   "execution_count": 14,
   "id": "ead6ead9-abb2-4227-b9c8-83d640218ca5",
   "metadata": {},
   "outputs": [],
   "source": [
    "test_file_eda['Latitude and Longitude'] = test_file_eda['Latitude and Longitude'].apply(lambda x: x[1:-1])\n",
    "test_file_eda['Longitude'] = test_file_eda['Latitude and Longitude'].apply(lambda x: x.split(',')[1]).astype(float)\n",
    "test_file_eda['Latitude'] = test_file_eda['Latitude and Longitude'].apply(lambda x: x.split(',')[0]).astype(float)"
   ]
  },
  {
   "cell_type": "code",
   "execution_count": 15,
   "id": "41455711-3f0a-4324-9a76-e73aec25eb73",
   "metadata": {},
   "outputs": [
    {
     "data": {
      "text/html": [
       "<div>\n",
       "<style scoped>\n",
       "    .dataframe tbody tr th:only-of-type {\n",
       "        vertical-align: middle;\n",
       "    }\n",
       "\n",
       "    .dataframe tbody tr th {\n",
       "        vertical-align: top;\n",
       "    }\n",
       "\n",
       "    .dataframe thead th {\n",
       "        text-align: right;\n",
       "    }\n",
       "</style>\n",
       "<table border=\"1\" class=\"dataframe\">\n",
       "  <thead>\n",
       "    <tr style=\"text-align: right;\">\n",
       "      <th></th>\n",
       "      <th>Longitude</th>\n",
       "      <th>Latitude</th>\n",
       "    </tr>\n",
       "  </thead>\n",
       "  <tbody>\n",
       "    <tr>\n",
       "      <th>count</th>\n",
       "      <td>250.000000</td>\n",
       "      <td>250.000000</td>\n",
       "    </tr>\n",
       "    <tr>\n",
       "      <th>mean</th>\n",
       "      <td>105.228658</td>\n",
       "      <td>10.458769</td>\n",
       "    </tr>\n",
       "    <tr>\n",
       "      <th>std</th>\n",
       "      <td>0.184505</td>\n",
       "      <td>0.197515</td>\n",
       "    </tr>\n",
       "    <tr>\n",
       "      <th>min</th>\n",
       "      <td>104.968741</td>\n",
       "      <td>10.154754</td>\n",
       "    </tr>\n",
       "    <tr>\n",
       "      <th>25%</th>\n",
       "      <td>105.109211</td>\n",
       "      <td>10.281143</td>\n",
       "    </tr>\n",
       "    <tr>\n",
       "      <th>50%</th>\n",
       "      <td>105.221292</td>\n",
       "      <td>10.506600</td>\n",
       "    </tr>\n",
       "    <tr>\n",
       "      <th>75%</th>\n",
       "      <td>105.318293</td>\n",
       "      <td>10.582910</td>\n",
       "    </tr>\n",
       "    <tr>\n",
       "      <th>max</th>\n",
       "      <td>105.535982</td>\n",
       "      <td>10.824106</td>\n",
       "    </tr>\n",
       "  </tbody>\n",
       "</table>\n",
       "</div>"
      ],
      "text/plain": [
       "        Longitude    Latitude\n",
       "count  250.000000  250.000000\n",
       "mean   105.228658   10.458769\n",
       "std      0.184505    0.197515\n",
       "min    104.968741   10.154754\n",
       "25%    105.109211   10.281143\n",
       "50%    105.221292   10.506600\n",
       "75%    105.318293   10.582910\n",
       "max    105.535982   10.824106"
      ]
     },
     "execution_count": 15,
     "metadata": {},
     "output_type": "execute_result"
    }
   ],
   "source": [
    "test_file_eda.describe()"
   ]
  },
  {
   "cell_type": "code",
   "execution_count": 16,
   "id": "44c0a337-700c-48ad-a78d-da5db169bd54",
   "metadata": {},
   "outputs": [],
   "source": [
    "m = ipyleaflet.Map(center=(test_file_eda['Latitude'].mean(), test_file_eda['Longitude'].mean()), zoom=10)\n",
    "# Put the marker on the map and display it\n",
    "# Add a list of marker on the map\n",
    "marker = []\n",
    "#Add a marker for each row in the data, use a clustered view\n",
    "for index, row in test_file_eda.iterrows():\n",
    "    marker.append(ipyleaflet.Marker(location=(row['Latitude'], row['Longitude']), draggable=False))\n",
    "\n",
    "marker_cluster = ipyleaflet.MarkerCluster(markers=marker)\n",
    "m.add_layer(ipyleaflet.TileLayer(opacity=1.0))\n",
    "m.add_layer(marker_cluster)"
   ]
  },
  {
   "cell_type": "code",
   "execution_count": 17,
   "id": "820c39ff-1222-4464-a6db-c68646be2062",
   "metadata": {},
   "outputs": [
    {
     "data": {
      "application/vnd.jupyter.widget-view+json": {
       "model_id": "0fa07fdb6c3d4ac48f49193c2ee377ca",
       "version_major": 2,
       "version_minor": 0
      },
      "text/plain": [
       "Map(center=[10.458769278139426, 105.22865789347384], controls=(ZoomControl(options=['position', 'zoom_in_text'…"
      ]
     },
     "metadata": {},
     "output_type": "display_data"
    }
   ],
   "source": [
    "display(m)"
   ]
  },
  {
   "cell_type": "code",
   "execution_count": 18,
   "id": "685479da-d382-4738-80a3-f751753e0cdf",
   "metadata": {},
   "outputs": [
    {
     "data": {
      "text/plain": [
       "Text(0.5, 1.0, 'Longitude Distribution')"
      ]
     },
     "execution_count": 18,
     "metadata": {},
     "output_type": "execute_result"
    },
    {
     "data": {
      "image/png": "[encoded data removed]",
      "text/plain": [
       "<Figure size 640x480 with 1 Axes>"
      ]
     },
     "metadata": {},
     "output_type": "display_data"
    }
   ],
   "source": [
    "plt.hist(test_file_eda['Longitude'], bins=100)\n",
    "plt.title('Longitude Distribution')"
   ]
  },
  {
   "cell_type": "code",
   "execution_count": 19,
   "id": "00924317-93f1-4b7a-9e15-1c5f6d30345c",
   "metadata": {},
   "outputs": [
    {
     "data": {
      "text/plain": [
       "Text(0.5, 1.0, 'Latitude Distribution')"
      ]
     },
     "execution_count": 19,
     "metadata": {},
     "output_type": "execute_result"
    },
    {
     "data": {
      "image/png": "[encoded data removed]",
      "text/plain": [
       "<Figure size 640x480 with 1 Axes>"
      ]
     },
     "metadata": {},
     "output_type": "display_data"
    }
   ],
   "source": [
    "plt.hist(test_file_eda['Latitude'], bins=100)\n",
    "plt.title('Latitude Distribution')"
   ]
  },
  {
   "cell_type": "markdown",
   "id": "6b5c981b-7cd4-47e0-8041-640a2f3f903d",
   "metadata": {},
   "source": [
    "## Data cleaning"
   ]
  },
  {
   "cell_type": "markdown",
   "id": "f998915d-36ee-4abb-b0fd-1888fdb2cbb4",
   "metadata": {},
   "source": [
    "### For train dataset"
   ]
  },
  {
   "cell_type": "code",
   "execution_count": 20,
   "id": "bc4235cb-5d70-46a7-a50d-c96ad7108f40",
   "metadata": {},
   "outputs": [
    {
     "data": {
      "text/plain": [
       "Latitude and Longitude    0\n",
       "Class of Land             0\n",
       "Longitude                 0\n",
       "Latitude                  0\n",
       "dtype: int64"
      ]
     },
     "execution_count": 20,
     "metadata": {},
     "output_type": "execute_result"
    }
   ],
   "source": [
    "crop_presence_data_eda.isna().sum()"
   ]
  },
  {
   "cell_type": "code",
   "execution_count": 21,
   "id": "34313072-fd1e-4de8-9300-5317d2f145da",
   "metadata": {},
   "outputs": [],
   "source": [
    "crop_presence_data_eda = crop_presence_data.copy()"
   ]
  },
  {
   "cell_type": "code",
   "execution_count": 22,
   "id": "464587da-5224-45ee-8889-c28854c2c56f",
   "metadata": {},
   "outputs": [],
   "source": [
    "#Remove trailling white space\n",
    "crop_presence_data = crop_presence_data.applymap(lambda x: x.strip() if type(x) == str else x)"
   ]
  },
  {
   "cell_type": "code",
   "execution_count": 23,
   "id": "df254b35-7a0d-4e70-8ba9-f0c957249b01",
   "metadata": {},
   "outputs": [
    {
     "name": "stdout",
     "output_type": "stream",
     "text": [
      "Special character is \n",
      "Series([], Name: Latitude and Longitude, dtype: object)\n"
     ]
    }
   ],
   "source": [
    "def detect_non_matching(element):\n",
    "    if all(char in ['(', ')', '.', '0', '1', '2', '3', '4', '5', '6', '7', '8', '9', ',', ' '] for char in element):\n",
    "        return\n",
    "    return element\n",
    "\n",
    "non_matching = crop_presence_data['Latitude and Longitude'].apply(detect_non_matching).dropna()\n",
    "print('Special character is ')\n",
    "print(non_matching)"
   ]
  },
  {
   "cell_type": "code",
   "execution_count": 24,
   "id": "e25d7a0b-015b-4c15-be0d-e864bdb9eaa4",
   "metadata": {},
   "outputs": [
    {
     "data": {
      "text/plain": [
       "172"
      ]
     },
     "execution_count": 24,
     "metadata": {},
     "output_type": "execute_result"
    }
   ],
   "source": [
    "crop_presence_data_eda['Latitude'].nunique()"
   ]
  },
  {
   "cell_type": "code",
   "execution_count": 25,
   "id": "0ab7df3b-f004-4913-8b11-78eda60f256d",
   "metadata": {},
   "outputs": [
    {
     "data": {
      "text/plain": [
       "220"
      ]
     },
     "execution_count": 25,
     "metadata": {},
     "output_type": "execute_result"
    }
   ],
   "source": [
    "crop_presence_data_eda['Longitude'].nunique()"
   ]
  },
  {
   "cell_type": "code",
   "execution_count": 26,
   "id": "d80d9fbb-f143-47c1-9437-34fdbb403803",
   "metadata": {},
   "outputs": [
    {
     "data": {
      "text/plain": [
       "2"
      ]
     },
     "execution_count": 26,
     "metadata": {},
     "output_type": "execute_result"
    }
   ],
   "source": [
    "crop_presence_data_eda['Class of Land'].nunique()"
   ]
  },
  {
   "cell_type": "code",
   "execution_count": 27,
   "id": "505d9e83-540d-43df-9069-945518b0a918",
   "metadata": {},
   "outputs": [
    {
     "data": {
      "text/plain": [
       "array(['Rice', 'Non Rice'], dtype=object)"
      ]
     },
     "execution_count": 27,
     "metadata": {},
     "output_type": "execute_result"
    }
   ],
   "source": [
    "crop_presence_data_eda['Class of Land'].unique()"
   ]
  },
  {
   "cell_type": "code",
   "execution_count": 28,
   "id": "dba2337b-8941-48c2-adc0-e41faa080ed6",
   "metadata": {},
   "outputs": [
    {
     "data": {
      "text/plain": [
       "0"
      ]
     },
     "execution_count": 28,
     "metadata": {},
     "output_type": "execute_result"
    }
   ],
   "source": [
    "crop_presence_data_eda.duplicated().sum()"
   ]
  },
  {
   "cell_type": "markdown",
   "id": "20b8acd8-9ec1-41de-a3bd-1c18b4b750f6",
   "metadata": {},
   "source": [
    "### For submission dataset"
   ]
  },
  {
   "cell_type": "code",
   "execution_count": 29,
   "id": "c586f813-5607-453c-8c08-5432746b51ee",
   "metadata": {},
   "outputs": [
    {
     "name": "stdout",
     "output_type": "stream",
     "text": [
      "<class 'pandas.core.frame.DataFrame'>\n",
      "RangeIndex: 250 entries, 0 to 249\n",
      "Data columns (total 1 columns):\n",
      " #   Column                  Non-Null Count  Dtype \n",
      "---  ------                  --------------  ----- \n",
      " 0   Latitude and Longitude  250 non-null    object\n",
      "dtypes: object(1)\n",
      "memory usage: 2.1+ KB\n"
     ]
    }
   ],
   "source": [
    "test_file.info()"
   ]
  },
  {
   "cell_type": "code",
   "execution_count": 30,
   "id": "8bccb60c-c486-4d14-9d93-6475f9a977dd",
   "metadata": {},
   "outputs": [],
   "source": [
    "#Remove trailling white space\n",
    "test_file = test_file.applymap(lambda x: x.strip() if type(x) == str else x)"
   ]
  },
  {
   "cell_type": "code",
   "execution_count": 31,
   "id": "e03c6036-075a-4e4b-837a-5f30c02a00ff",
   "metadata": {},
   "outputs": [
    {
     "data": {
      "text/plain": [
       "Latitude and Longitude    250\n",
       "dtype: int64"
      ]
     },
     "execution_count": 31,
     "metadata": {},
     "output_type": "execute_result"
    }
   ],
   "source": [
    "test_file.nunique()"
   ]
  },
  {
   "cell_type": "code",
   "execution_count": 32,
   "id": "fc5902b8-d9ad-4605-958c-1e6aaf980ff7",
   "metadata": {},
   "outputs": [
    {
     "name": "stdout",
     "output_type": "stream",
     "text": [
      "Special character is \n",
      "Series([], Name: Latitude and Longitude, dtype: object)\n"
     ]
    }
   ],
   "source": [
    "non_matching = test_file['Latitude and Longitude'].apply(detect_non_matching).dropna()\n",
    "print('Special character is ')\n",
    "print(non_matching)"
   ]
  },
  {
   "cell_type": "markdown",
   "id": "b3b6812c-7137-4873-b4ed-2dcdd470209b",
   "metadata": {},
   "source": [
    "## Predictor Variables"
   ]
  },
  {
   "cell_type": "markdown",
   "id": "1487a9dc-1308-4c05-a69a-ccfe60bc9100",
   "metadata": {},
   "source": [
    "<p align =\"justify\">Now that we have our crop location data, it is time to gather the predictor variables from the Sentinel-1 dataset. For a more in-depth look regarding the Sentinel-1 dataset and how to query it, see the Sentinel-1 <a href=\"https://challenge.ey.com/api/v1/storage/admin-files/6403146221623637-63ca8d537b1fe300146c79d0-Sentinel%201%20Phenology.ipynb/\"> supplementary \n",
    "notebook</a>.\n",
    "    \n",
    "\n",
    "<p align = \"justify\">Sentinel-1 radar data penetrates through the clouds, thus helping us to get the band values with minimal atmospheric attenuation. Band values such as VV and VH help us in distinguishing between the rice and non rice crops. Hence we are choosing VV and VH as predictor variables for this experiment. \n",
    "        \n",
    "<ul>\n",
    "<li>VV - gamma naught values of signal transmitted with vertical polarization and received with vertical polarization with radiometric terrain correction applied.\n",
    "\n",
    "<li>VH - gamma naught values of signal transmitted with vertical polarization and received with horizontal polarization with radiometric terrain correction applied.\n",
    "</ul>"
   ]
  },
  {
   "cell_type": "markdown",
   "id": "04011667-99ae-4820-a635-d8d50f716fe3",
   "metadata": {},
   "source": [
    "<h4 style=\"color:rgb(195, 52, 235)\"><strong>Tip 1</strong></h4>\n",
    "<p align=\"justify\">Participants might explore other combinations of bands from the Sentinel-1 data. For example, you can use mathematical combinations of bands to generate various <a href=\"https://challenge.ey.com/api/v1/storage/admin-files/3868217534768359-63ca8dc8aea56e00146e3489-Comprehensive%20Guide%20-%20Satellite%20Data.docx\">vegetation indices </a> which can then be used as features in your model.\n"
   ]
  },
  {
   "cell_type": "markdown",
   "id": "0c85257f-4a48-49e8-8036-10e9a6b69894",
   "metadata": {},
   "source": [
    "### Accessing the Sentinel-1 Data"
   ]
  },
  {
   "cell_type": "markdown",
   "id": "5399737c-46bb-44b7-bda8-4253c827e66d",
   "metadata": {},
   "source": [
    "<p align = \"Justify\">To get the Sentinel-1 data, we write a function called <i><b>get_sentinel_data.</b></i> This function will fetch VV and VH band values for a particular location over the specified time window. In this example, we have extracted VV and VH values for a day (21st March 2020). </p>"
   ]
  },
  {
   "cell_type": "markdown",
   "id": "87f85d6d-6c72-438b-81f8-8aafb1265b0a",
   "metadata": {},
   "source": [
    "<h4 style=\"color:rgb(195, 52, 235)\"><strong>Tip 2</strong></h4>\n",
    "<p align=\"justify\"> Extract VV and VH band values for an entire year. Different land classes (e.g., agriculture, water, urban) will have different annual variability. This variability will be better than a single date for accurately identifying land classes. Please find below a demonstration of extracting data for a day (21st March 2020)."
   ]
  },
  {
   "cell_type": "code",
   "execution_count": 33,
   "id": "5e339a34-cfa7-4899-9165-63ca7c01bbb9",
   "metadata": {},
   "outputs": [],
   "source": [
    "def get_sentinel_data(latlong,time_slice,assets):\n",
    "    '''\n",
    "    Returns VV and VH values for a given latitude and longitude \n",
    "    Attributes:\n",
    "    latlong - A tuple with 2 elements - latitude and longitude\n",
    "    time_slice - Timeframe for which the VV and VH values have to be extracted\n",
    "    assets - A list of bands to be extracted\n",
    "    '''\n",
    "\n",
    "    latlong=latlong.replace('(','').replace(')','').replace(' ','').split(',')\n",
    "    bbox_of_interest = (float(latlong[1]) , float(latlong[0]), float(latlong[1]) , float(latlong[0]))\n",
    "    time_of_interest = time_slice\n",
    "\n",
    "    catalog = pystac_client.Client.open(\n",
    "        \"https://planetarycomputer.microsoft.com/api/stac/v1\"\n",
    "    )\n",
    "    search = catalog.search(\n",
    "        collections=[\"sentinel-1-rtc\"], bbox=bbox_of_interest, datetime=time_of_interest\n",
    "    )\n",
    "    items = list(search.get_all_items())\n",
    "    bands_of_interest = assests\n",
    "    data = stac_load([items[0]], patch_url=pc.sign, bbox=bbox_of_interest).isel(time=0)\n",
    "    vh = data[\"vh\"].astype(\"float\").values.tolist()[0][0]\n",
    "    vv = data[\"vv\"].astype(\"float\").values.tolist()[0][0]\n",
    "    return vh,vv"
   ]
  },
  {
   "cell_type": "markdown",
   "id": "caab9734-6cdf-466f-87c3-8067b05b90ba",
   "metadata": {},
   "source": [
    "<h4 style=\"color:rgb(195, 52, 235)\"><strong>Tip 3 </strong></h4>"
   ]
  },
  {
   "cell_type": "markdown",
   "id": "0cdb9b25-0c41-4f55-aa33-082adeb34dbd",
   "metadata": {},
   "source": [
    "Explore the approach of building a bounding box (e.g., 5x5 pixels) around the given latitude and longitude positions and then extract the aggregated band values (e.g., average, median) to get normalized band values to build the model. Radar data has inherent variability at the pixel level due to variable scattering response from the target. This effect is called “speckle” and it is common to filter the data to smooth these variations. Try using a 3x3, 5x5 or 7x7 window around the specific latitude and longitude point to get improved results."
   ]
  },
  {
   "cell_type": "code",
   "execution_count": 34,
   "id": "4c51cd6e-41e2-4df4-ae07-349be861f0f0",
   "metadata": {},
   "outputs": [
    {
     "name": "stderr",
     "output_type": "stream",
     "text": [
      " 37%|███████████████▏                         | 223/600 [03:31<05:56,  1.06it/s]\n"
     ]
    },
    {
     "ename": "APIError",
     "evalue": "<!DOCTYPE html PUBLIC '-//W3C//DTD XHTML 1.0 Transitional//EN' 'http://www.w3.org/TR/xhtml1/DTD/xhtml1-transitional.dtd'><html xmlns='http://www.w3.org/1999/xhtml'><head><meta content='text/html; charset=utf-8' http-equiv='content-type'/><style type='text/css'>body {font-family:Arial; margin-left:40px; }img  { border:0 none; }#content { margin-left: auto; margin-right: auto }#message h2 { font-size: 20px; font-weight: normal; color: #000000; margin: 34px 0px 0px 0px }#message p  { font-size: 13px; color: #000000; margin: 7px 0px 0px0px}#errorref { font-size: 11px; color: #737373; margin-top: 41px }</style><title>Service unavailable</title></head><body><div id='content'><div id='message'><h2>Our services aren't available right now</h2><p>We're working to restore all services as soon as possible. Please check back soon.</p></div><div id='errorref'><span>0kq3fYwAAAACkv2SSC/STSYal///yc7rmU0cyRURHRTI3MTIAOTI3YWJmYTYtMTlmNi00YWYxLWEwOWQtYzk1OWQ5YTFlNjQ0</span></div></div></body></html>",
     "output_type": "error",
     "traceback": [
      "\u001b[0;31m---------------------------------------------------------------------------\u001b[0m",
      "\u001b[0;31mAPIError\u001b[0m                                  Traceback (most recent call last)",
      "\u001b[0;32m/var/folders/2r/8n96nprj6xj63r26db8sxy640000gn/T/ipykernel_51653/3025152356.py\u001b[0m in \u001b[0;36m<module>\u001b[0;34m\u001b[0m\n\u001b[1;32m      4\u001b[0m \u001b[0mvh_vv_hh_hv\u001b[0m \u001b[0;34m=\u001b[0m \u001b[0;34m[\u001b[0m\u001b[0;34m]\u001b[0m\u001b[0;34m\u001b[0m\u001b[0;34m\u001b[0m\u001b[0m\n\u001b[1;32m      5\u001b[0m \u001b[0;32mfor\u001b[0m \u001b[0mcoordinates\u001b[0m \u001b[0;32min\u001b[0m \u001b[0mtqdm\u001b[0m\u001b[0;34m(\u001b[0m\u001b[0mcrop_presence_data\u001b[0m\u001b[0;34m[\u001b[0m\u001b[0;34m'Latitude and Longitude'\u001b[0m\u001b[0;34m]\u001b[0m\u001b[0;34m)\u001b[0m\u001b[0;34m:\u001b[0m\u001b[0;34m\u001b[0m\u001b[0;34m\u001b[0m\u001b[0m\n\u001b[0;32m----> 6\u001b[0;31m     \u001b[0mvh_vv_hh_hv\u001b[0m\u001b[0;34m.\u001b[0m\u001b[0mappend\u001b[0m\u001b[0;34m(\u001b[0m\u001b[0mget_sentinel_data\u001b[0m\u001b[0;34m(\u001b[0m\u001b[0mcoordinates\u001b[0m\u001b[0;34m,\u001b[0m\u001b[0mtime_slice\u001b[0m\u001b[0;34m,\u001b[0m\u001b[0massests\u001b[0m\u001b[0;34m)\u001b[0m\u001b[0;34m)\u001b[0m\u001b[0;34m\u001b[0m\u001b[0;34m\u001b[0m\u001b[0m\n\u001b[0m\u001b[1;32m      7\u001b[0m \u001b[0mvh_vv_data\u001b[0m \u001b[0;34m=\u001b[0m \u001b[0mpd\u001b[0m\u001b[0;34m.\u001b[0m\u001b[0mDataFrame\u001b[0m\u001b[0;34m(\u001b[0m\u001b[0mvh_vv_hh_hv\u001b[0m\u001b[0;34m,\u001b[0m\u001b[0mcolumns\u001b[0m \u001b[0;34m=\u001b[0m\u001b[0;34m[\u001b[0m\u001b[0;34m'vh'\u001b[0m\u001b[0;34m,\u001b[0m\u001b[0;34m'vv'\u001b[0m\u001b[0;34m]\u001b[0m\u001b[0;34m)\u001b[0m\u001b[0;34m\u001b[0m\u001b[0;34m\u001b[0m\u001b[0m\n",
      "\u001b[0;32m/var/folders/2r/8n96nprj6xj63r26db8sxy640000gn/T/ipykernel_51653/1417643011.py\u001b[0m in \u001b[0;36mget_sentinel_data\u001b[0;34m(latlong, time_slice, assets)\u001b[0m\n\u001b[1;32m     12\u001b[0m     \u001b[0mtime_of_interest\u001b[0m \u001b[0;34m=\u001b[0m \u001b[0mtime_slice\u001b[0m\u001b[0;34m\u001b[0m\u001b[0;34m\u001b[0m\u001b[0m\n\u001b[1;32m     13\u001b[0m \u001b[0;34m\u001b[0m\u001b[0m\n\u001b[0;32m---> 14\u001b[0;31m     catalog = pystac_client.Client.open(\n\u001b[0m\u001b[1;32m     15\u001b[0m         \u001b[0;34m\"https://planetarycomputer.microsoft.com/api/stac/v1\"\u001b[0m\u001b[0;34m\u001b[0m\u001b[0;34m\u001b[0m\u001b[0m\n\u001b[1;32m     16\u001b[0m     )\n",
      "\u001b[0;32m~/opt/anaconda3/lib/python3.9/site-packages/pystac_client/client.py\u001b[0m in \u001b[0;36mopen\u001b[0;34m(cls, url, headers, parameters, ignore_conformance, modifier, request_modifier, stac_io)\u001b[0m\n\u001b[1;32m    151\u001b[0m             \u001b[0mcatalog\u001b[0m \u001b[0;34m:\u001b[0m \u001b[0mA\u001b[0m \u001b[0;34m:\u001b[0m\u001b[0;32mclass\u001b[0m\u001b[0;34m:\u001b[0m\u001b[0;31m`\u001b[0m\u001b[0mClient\u001b[0m\u001b[0;31m`\u001b[0m \u001b[0minstance\u001b[0m \u001b[0;32mfor\u001b[0m \u001b[0mthis\u001b[0m \u001b[0mCatalog\u001b[0m\u001b[0;34m/\u001b[0m\u001b[0mAPI\u001b[0m\u001b[0;34m\u001b[0m\u001b[0;34m\u001b[0m\u001b[0m\n\u001b[1;32m    152\u001b[0m         \"\"\"\n\u001b[0;32m--> 153\u001b[0;31m         client: Client = cls.from_file(\n\u001b[0m\u001b[1;32m    154\u001b[0m             \u001b[0murl\u001b[0m\u001b[0;34m,\u001b[0m\u001b[0;34m\u001b[0m\u001b[0;34m\u001b[0m\u001b[0m\n\u001b[1;32m    155\u001b[0m             \u001b[0mheaders\u001b[0m\u001b[0;34m=\u001b[0m\u001b[0mheaders\u001b[0m\u001b[0;34m,\u001b[0m\u001b[0;34m\u001b[0m\u001b[0;34m\u001b[0m\u001b[0m\n",
      "\u001b[0;32m~/opt/anaconda3/lib/python3.9/site-packages/pystac_client/client.py\u001b[0m in \u001b[0;36mfrom_file\u001b[0;34m(cls, href, stac_io, headers, parameters, modifier, request_modifier)\u001b[0m\n\u001b[1;32m    199\u001b[0m             )\n\u001b[1;32m    200\u001b[0m \u001b[0;34m\u001b[0m\u001b[0m\n\u001b[0;32m--> 201\u001b[0;31m         \u001b[0mclient\u001b[0m\u001b[0;34m:\u001b[0m \u001b[0mClient\u001b[0m \u001b[0;34m=\u001b[0m \u001b[0msuper\u001b[0m\u001b[0;34m(\u001b[0m\u001b[0;34m)\u001b[0m\u001b[0;34m.\u001b[0m\u001b[0mfrom_file\u001b[0m\u001b[0;34m(\u001b[0m\u001b[0mhref\u001b[0m\u001b[0;34m,\u001b[0m \u001b[0mstac_io\u001b[0m\u001b[0;34m)\u001b[0m  \u001b[0;31m# type: ignore\u001b[0m\u001b[0;34m\u001b[0m\u001b[0;34m\u001b[0m\u001b[0m\n\u001b[0m\u001b[1;32m    202\u001b[0m \u001b[0;34m\u001b[0m\u001b[0m\n\u001b[1;32m    203\u001b[0m         client._stac_io._conformance = client.extra_fields.get(  # type: ignore\n",
      "\u001b[0;32m~/opt/anaconda3/lib/python3.9/site-packages/pystac/catalog.py\u001b[0m in \u001b[0;36mfrom_file\u001b[0;34m(cls, href, stac_io)\u001b[0m\n\u001b[1;32m   1059\u001b[0m             \u001b[0mstac_io\u001b[0m \u001b[0;34m=\u001b[0m \u001b[0mpystac\u001b[0m\u001b[0;34m.\u001b[0m\u001b[0mStacIO\u001b[0m\u001b[0;34m.\u001b[0m\u001b[0mdefault\u001b[0m\u001b[0;34m(\u001b[0m\u001b[0;34m)\u001b[0m\u001b[0;34m\u001b[0m\u001b[0;34m\u001b[0m\u001b[0m\n\u001b[1;32m   1060\u001b[0m \u001b[0;34m\u001b[0m\u001b[0m\n\u001b[0;32m-> 1061\u001b[0;31m         \u001b[0mresult\u001b[0m \u001b[0;34m=\u001b[0m \u001b[0msuper\u001b[0m\u001b[0;34m(\u001b[0m\u001b[0;34m)\u001b[0m\u001b[0;34m.\u001b[0m\u001b[0mfrom_file\u001b[0m\u001b[0;34m(\u001b[0m\u001b[0mhref\u001b[0m\u001b[0;34m,\u001b[0m \u001b[0mstac_io\u001b[0m\u001b[0;34m)\u001b[0m\u001b[0;34m\u001b[0m\u001b[0;34m\u001b[0m\u001b[0m\n\u001b[0m\u001b[1;32m   1062\u001b[0m         \u001b[0;32mif\u001b[0m \u001b[0;32mnot\u001b[0m \u001b[0misinstance\u001b[0m\u001b[0;34m(\u001b[0m\u001b[0mresult\u001b[0m\u001b[0;34m,\u001b[0m \u001b[0mCatalog\u001b[0m\u001b[0;34m)\u001b[0m\u001b[0;34m:\u001b[0m\u001b[0;34m\u001b[0m\u001b[0;34m\u001b[0m\u001b[0m\n\u001b[1;32m   1063\u001b[0m             \u001b[0;32mraise\u001b[0m \u001b[0mpystac\u001b[0m\u001b[0;34m.\u001b[0m\u001b[0mSTACTypeError\u001b[0m\u001b[0;34m(\u001b[0m\u001b[0;34mf\"{result} is not a {Catalog}.\"\u001b[0m\u001b[0;34m)\u001b[0m\u001b[0;34m\u001b[0m\u001b[0;34m\u001b[0m\u001b[0m\n",
      "\u001b[0;32m~/opt/anaconda3/lib/python3.9/site-packages/pystac/stac_object.py\u001b[0m in \u001b[0;36mfrom_file\u001b[0;34m(cls, href, stac_io)\u001b[0m\n\u001b[1;32m    508\u001b[0m             \u001b[0mhref\u001b[0m \u001b[0;34m=\u001b[0m \u001b[0mmake_absolute_href\u001b[0m\u001b[0;34m(\u001b[0m\u001b[0mhref\u001b[0m\u001b[0;34m)\u001b[0m\u001b[0;34m\u001b[0m\u001b[0;34m\u001b[0m\u001b[0m\n\u001b[1;32m    509\u001b[0m \u001b[0;34m\u001b[0m\u001b[0m\n\u001b[0;32m--> 510\u001b[0;31m         \u001b[0md\u001b[0m \u001b[0;34m=\u001b[0m \u001b[0mstac_io\u001b[0m\u001b[0;34m.\u001b[0m\u001b[0mread_json\u001b[0m\u001b[0;34m(\u001b[0m\u001b[0mhref\u001b[0m\u001b[0;34m)\u001b[0m\u001b[0;34m\u001b[0m\u001b[0;34m\u001b[0m\u001b[0m\n\u001b[0m\u001b[1;32m    511\u001b[0m         \u001b[0mo\u001b[0m \u001b[0;34m=\u001b[0m \u001b[0mcls\u001b[0m\u001b[0;34m.\u001b[0m\u001b[0mfrom_dict\u001b[0m\u001b[0;34m(\u001b[0m\u001b[0md\u001b[0m\u001b[0;34m,\u001b[0m \u001b[0mhref\u001b[0m\u001b[0;34m=\u001b[0m\u001b[0mhref\u001b[0m\u001b[0;34m,\u001b[0m \u001b[0mmigrate\u001b[0m\u001b[0;34m=\u001b[0m\u001b[0;32mTrue\u001b[0m\u001b[0;34m,\u001b[0m \u001b[0mpreserve_dict\u001b[0m\u001b[0;34m=\u001b[0m\u001b[0;32mFalse\u001b[0m\u001b[0;34m)\u001b[0m\u001b[0;34m\u001b[0m\u001b[0;34m\u001b[0m\u001b[0m\n\u001b[1;32m    512\u001b[0m \u001b[0;34m\u001b[0m\u001b[0m\n",
      "\u001b[0;32m~/opt/anaconda3/lib/python3.9/site-packages/pystac/stac_io.py\u001b[0m in \u001b[0;36mread_json\u001b[0;34m(self, source, *args, **kwargs)\u001b[0m\n\u001b[1;32m    196\u001b[0m             \u001b[0mgiven\u001b[0m \u001b[0msource\u001b[0m\u001b[0;34m.\u001b[0m\u001b[0;34m\u001b[0m\u001b[0;34m\u001b[0m\u001b[0m\n\u001b[1;32m    197\u001b[0m         \"\"\"\n\u001b[0;32m--> 198\u001b[0;31m         \u001b[0mtxt\u001b[0m \u001b[0;34m=\u001b[0m \u001b[0mself\u001b[0m\u001b[0;34m.\u001b[0m\u001b[0mread_text\u001b[0m\u001b[0;34m(\u001b[0m\u001b[0msource\u001b[0m\u001b[0;34m,\u001b[0m \u001b[0;34m*\u001b[0m\u001b[0margs\u001b[0m\u001b[0;34m,\u001b[0m \u001b[0;34m**\u001b[0m\u001b[0mkwargs\u001b[0m\u001b[0;34m)\u001b[0m\u001b[0;34m\u001b[0m\u001b[0;34m\u001b[0m\u001b[0m\n\u001b[0m\u001b[1;32m    199\u001b[0m         \u001b[0;32mreturn\u001b[0m \u001b[0mself\u001b[0m\u001b[0;34m.\u001b[0m\u001b[0mjson_loads\u001b[0m\u001b[0;34m(\u001b[0m\u001b[0mtxt\u001b[0m\u001b[0;34m)\u001b[0m\u001b[0;34m\u001b[0m\u001b[0;34m\u001b[0m\u001b[0m\n\u001b[1;32m    200\u001b[0m \u001b[0;34m\u001b[0m\u001b[0m\n",
      "\u001b[0;32m~/opt/anaconda3/lib/python3.9/site-packages/pystac_client/stac_api_io.py\u001b[0m in \u001b[0;36mread_text\u001b[0;34m(self, source, *args, **kwargs)\u001b[0m\n\u001b[1;32m    102\u001b[0m             \u001b[0mhref\u001b[0m \u001b[0;34m=\u001b[0m \u001b[0mstr\u001b[0m\u001b[0;34m(\u001b[0m\u001b[0msource\u001b[0m\u001b[0;34m)\u001b[0m\u001b[0;34m\u001b[0m\u001b[0;34m\u001b[0m\u001b[0m\n\u001b[1;32m    103\u001b[0m             \u001b[0;32mif\u001b[0m \u001b[0m_is_url\u001b[0m\u001b[0;34m(\u001b[0m\u001b[0mhref\u001b[0m\u001b[0;34m)\u001b[0m\u001b[0;34m:\u001b[0m\u001b[0;34m\u001b[0m\u001b[0;34m\u001b[0m\u001b[0m\n\u001b[0;32m--> 104\u001b[0;31m                 \u001b[0;32mreturn\u001b[0m \u001b[0mself\u001b[0m\u001b[0;34m.\u001b[0m\u001b[0mrequest\u001b[0m\u001b[0;34m(\u001b[0m\u001b[0mhref\u001b[0m\u001b[0;34m,\u001b[0m \u001b[0;34m*\u001b[0m\u001b[0margs\u001b[0m\u001b[0;34m,\u001b[0m \u001b[0;34m**\u001b[0m\u001b[0mkwargs\u001b[0m\u001b[0;34m)\u001b[0m\u001b[0;34m\u001b[0m\u001b[0;34m\u001b[0m\u001b[0m\n\u001b[0m\u001b[1;32m    105\u001b[0m             \u001b[0;32melse\u001b[0m\u001b[0;34m:\u001b[0m\u001b[0;34m\u001b[0m\u001b[0;34m\u001b[0m\u001b[0m\n\u001b[1;32m    106\u001b[0m                 \u001b[0;32mwith\u001b[0m \u001b[0mopen\u001b[0m\u001b[0;34m(\u001b[0m\u001b[0mhref\u001b[0m\u001b[0;34m)\u001b[0m \u001b[0;32mas\u001b[0m \u001b[0mf\u001b[0m\u001b[0;34m:\u001b[0m\u001b[0;34m\u001b[0m\u001b[0;34m\u001b[0m\u001b[0m\n",
      "\u001b[0;32m~/opt/anaconda3/lib/python3.9/site-packages/pystac_client/stac_api_io.py\u001b[0m in \u001b[0;36mrequest\u001b[0;34m(self, href, method, headers, parameters)\u001b[0m\n\u001b[1;32m    150\u001b[0m             \u001b[0;32mraise\u001b[0m \u001b[0mAPIError\u001b[0m\u001b[0;34m(\u001b[0m\u001b[0mstr\u001b[0m\u001b[0;34m(\u001b[0m\u001b[0merr\u001b[0m\u001b[0;34m)\u001b[0m\u001b[0;34m)\u001b[0m\u001b[0;34m\u001b[0m\u001b[0;34m\u001b[0m\u001b[0m\n\u001b[1;32m    151\u001b[0m         \u001b[0;32mif\u001b[0m \u001b[0mresp\u001b[0m\u001b[0;34m.\u001b[0m\u001b[0mstatus_code\u001b[0m \u001b[0;34m!=\u001b[0m \u001b[0;36m200\u001b[0m\u001b[0;34m:\u001b[0m\u001b[0;34m\u001b[0m\u001b[0;34m\u001b[0m\u001b[0m\n\u001b[0;32m--> 152\u001b[0;31m             \u001b[0;32mraise\u001b[0m \u001b[0mAPIError\u001b[0m\u001b[0;34m.\u001b[0m\u001b[0mfrom_response\u001b[0m\u001b[0;34m(\u001b[0m\u001b[0mresp\u001b[0m\u001b[0;34m)\u001b[0m\u001b[0;34m\u001b[0m\u001b[0;34m\u001b[0m\u001b[0m\n\u001b[0m\u001b[1;32m    153\u001b[0m         \u001b[0;32mtry\u001b[0m\u001b[0;34m:\u001b[0m\u001b[0;34m\u001b[0m\u001b[0;34m\u001b[0m\u001b[0m\n\u001b[1;32m    154\u001b[0m             \u001b[0;32mreturn\u001b[0m \u001b[0mresp\u001b[0m\u001b[0;34m.\u001b[0m\u001b[0mcontent\u001b[0m\u001b[0;34m.\u001b[0m\u001b[0mdecode\u001b[0m\u001b[0;34m(\u001b[0m\u001b[0;34m\"utf-8\"\u001b[0m\u001b[0;34m)\u001b[0m\u001b[0;34m\u001b[0m\u001b[0;34m\u001b[0m\u001b[0m\n",
      "\u001b[0;31mAPIError\u001b[0m: <!DOCTYPE html PUBLIC '-//W3C//DTD XHTML 1.0 Transitional//EN' 'http://www.w3.org/TR/xhtml1/DTD/xhtml1-transitional.dtd'><html xmlns='http://www.w3.org/1999/xhtml'><head><meta content='text/html; charset=utf-8' http-equiv='content-type'/><style type='text/css'>body {font-family:Arial; margin-left:40px; }img  { border:0 none; }#content { margin-left: auto; margin-right: auto }#message h2 { font-size: 20px; font-weight: normal; color: #000000; margin: 34px 0px 0px 0px }#message p  { font-size: 13px; color: #000000; margin: 7px 0px 0px0px}#errorref { font-size: 11px; color: #737373; margin-top: 41px }</style><title>Service unavailable</title></head><body><div id='content'><div id='message'><h2>Our services aren't available right now</h2><p>We're working to restore all services as soon as possible. Please check back soon.</p></div><div id='errorref'><span>0kq3fYwAAAACkv2SSC/STSYal///yc7rmU0cyRURHRTI3MTIAOTI3YWJmYTYtMTlmNi00YWYxLWEwOWQtYzk1OWQ5YTFlNjQ0</span></div></div></body></html>"
     ]
    }
   ],
   "source": [
    "## Function call to extract VV,VH Values\n",
    "time_slice = \"2020-03-20/2020-03-21\"\n",
    "assests = ['vh','vv']\n",
    "vh_vv_hh_hv = []\n",
    "for coordinates in tqdm(crop_presence_data['Latitude and Longitude']):\n",
    "    vh_vv_hh_hv.append(get_sentinel_data(coordinates,time_slice,assests))\n",
    "vh_vv_data = pd.DataFrame(vh_vv_hh_hv,columns =['vh','vv'])"
   ]
  },
  {
   "cell_type": "markdown",
   "id": "aa872546-7567-418c-af04-1d8b4fa5bd60",
   "metadata": {},
   "source": [
    "## Joining the predictor variables and response variables\n",
    "Now that we have extracted our predictor variables, we need to join them onto the response variable . We use the function <i><b>combine_two_datasets</b></i> to combine the predictor variables and response variables.The <i><b>concat</b></i> function from pandas comes in handy here."
   ]
  },
  {
   "cell_type": "code",
   "execution_count": null,
   "id": "96296d95-8290-4f26-80f9-9e221bfcfc81",
   "metadata": {},
   "outputs": [],
   "source": [
    "def combine_two_datasets(dataset1,dataset2):\n",
    "    '''\n",
    "    Returns a  vertically concatenated dataset.\n",
    "    Attributes:\n",
    "    dataset1 - Dataset 1 to be combined \n",
    "    dataset2 - Dataset 2 to be combined\n",
    "    '''\n",
    "    data = pd.concat([dataset1,dataset2], axis=1)\n",
    "    return data"
   ]
  },
  {
   "cell_type": "code",
   "execution_count": null,
   "id": "20fa2b5f-727b-4781-9ff4-cc70596cd3f0",
   "metadata": {},
   "outputs": [],
   "source": [
    "crop_data = combine_two_datasets(crop_presence_data,vh_vv_data)\n",
    "crop_data.head()"
   ]
  },
  {
   "cell_type": "markdown",
   "id": "fd4af7b5-41d1-4822-8d78-5e4bdc84b287",
   "metadata": {},
   "source": [
    "## Model Building\n"
   ]
  },
  {
   "cell_type": "markdown",
   "id": "a664ca55-dba1-440b-a4ef-2b6934c03929",
   "metadata": {},
   "source": [
    "<p align=\"justify\"> Now let us select the columns required for our model building exercise. We will consider only VV and VH for our model. It does not make sense to use latitude and longitude as predictor variables as they do not have any impact on presence of rice crop.</p>"
   ]
  },
  {
   "cell_type": "code",
   "execution_count": null,
   "id": "536d53ad-2697-4283-8ceb-db94f93bad7e",
   "metadata": {},
   "outputs": [],
   "source": [
    "crop_data = crop_data[['vh','vv','Class of Land']]"
   ]
  },
  {
   "cell_type": "markdown",
   "id": "fca40658-8003-4195-b0d1-5efe29929ac9",
   "metadata": {},
   "source": [
    "### Train and Test Split "
   ]
  },
  {
   "cell_type": "markdown",
   "id": "b46507f5-cfd1-43d8-8b05-aa09ce8016af",
   "metadata": {},
   "source": [
    "<p align=\"justify\">We will now split the data into 70% training data and 30% test data. Scikit-learn alias “sklearn” is a robust library for machine learning in Python. The scikit-learn library has a <i><b>model_selection</b></i> module in which there is a splitting function <i><b>train_test_split</b></i>. You can use the same.</p>"
   ]
  },
  {
   "cell_type": "code",
   "execution_count": null,
   "id": "062ac03d-245d-49af-82d9-56d3ac581e85",
   "metadata": {},
   "outputs": [],
   "source": [
    "X = crop_data.drop(columns=['Class of Land']).values\n",
    "y = crop_data ['Class of Land'].values\n",
    "X_train, X_test, y_train, y_test = train_test_split(X, y, test_size=0.3,stratify=y,random_state=40)"
   ]
  },
  {
   "cell_type": "markdown",
   "id": "b031607b-9e71-46c8-beb1-3610ab59c56a",
   "metadata": {},
   "source": [
    "### Feature Scaling "
   ]
  },
  {
   "cell_type": "markdown",
   "id": "3b2140c8-3fed-49a4-b9c5-7378c12c5784",
   "metadata": {},
   "source": [
    "<p align=\"justify\"> Before initiating the model training we may have to execute different data pre-processing steps. Here we are demonstrating the scaling of VV and VH variable by using Standard Scaler.</p>"
   ]
  },
  {
   "cell_type": "markdown",
   "id": "d859a23d-be08-4a7c-b27b-1a4afb03feb5",
   "metadata": {},
   "source": [
    "<p align = \"justify\">Feature Scaling is a data preprocessing step for numerical features. Many machine learning algorithms like Gradient descent methods, KNN algorithm, linear and logistic regression, etc. require data scaling to produce good results. Scikit learn provides functions that can be used to apply data scaling. Here we are using Standard Scaler.</p>"
   ]
  },
  {
   "cell_type": "markdown",
   "id": "6a85328e-bef5-4b81-b7a0-443557387e0c",
   "metadata": {},
   "source": [
    "<h4 style=\"color:rgb(195, 52, 235)\"><strong>Tip 4 </strong></h4>\n",
    "<p align=\"justify\">Participants might explore other feature scaling techniques like Min Max Scaler, Max Absolute Scaling, Robust Scaling etc.</p>"
   ]
  },
  {
   "cell_type": "code",
   "execution_count": null,
   "id": "1506aede-aca0-4acc-a9b7-c7547dd9ed0a",
   "metadata": {},
   "outputs": [],
   "source": [
    "sc = StandardScaler()\n",
    "X_train = sc.fit_transform(X_train)\n",
    "X_test = sc.transform(X_test)"
   ]
  },
  {
   "cell_type": "markdown",
   "id": "ed1de27d-2b8b-4a3d-bf83-66f69f435402",
   "metadata": {},
   "source": [
    "### Model Training"
   ]
  },
  {
   "cell_type": "markdown",
   "id": "c3e978bb-a1af-48d7-ae11-6912bbe45adf",
   "metadata": {},
   "source": [
    "<p justify =\"align\">Now that we have the data in a format appropriate for machine learning, we can begin training a model. In this demonstration notebook, we have used a binary logistic regression model from the scikit-learn library. This library offers a wide range of other models, each with the capacity for extensive parameter tuning and customization capabilities.</p>\n",
    "\n",
    "<p justify =\"align\">Scikit-learn models require separation of predictor variables and the response variable. You have to store the predictor variables in array X and the response variable in the array Y. You must make sure not to include the response variable in array X. It also doesn't make sense to use latitude and longitude as predictor variables in such a confined area, so we drop those too.</p>"
   ]
  },
  {
   "cell_type": "code",
   "execution_count": null,
   "id": "888f7099-afbf-47d5-a214-00ae0e11bf66",
   "metadata": {},
   "outputs": [],
   "source": [
    "model = LogisticRegression(solver='lbfgs')\n",
    "xgboost ,lightgbm, catboost\n",
    "model.fit(X_train,y_train)"
   ]
  },
  {
   "cell_type": "markdown",
   "id": "e87f54ac-ccd9-43a0-a53c-3403ee56c43d",
   "metadata": {},
   "source": [
    "## Model Evaluation"
   ]
  },
  {
   "cell_type": "markdown",
   "id": "c940c3e9-caa0-4081-9941-372082cad66b",
   "metadata": {},
   "source": [
    "Now that we have trained our model , all that is left is to evaluate it. For evaluation we will generate the classification report and will plot the confusion matrix. Scikit-learn provides many other metrics that can be used for evaluation. You can even write a code on your own."
   ]
  },
  {
   "cell_type": "markdown",
   "id": "35ad0925-b550-4b26-ae96-2ec160ae3dff",
   "metadata": {
    "tags": []
   },
   "source": [
    "### In-Sample Evaluation\n",
    "<p align=\"Jutisfy\"> We will be generating a classification report and a confusion matrix for the training data. It must be stressed that this is in-sample performance testing , which is the performance testing on the training dataset. These metrics are NOT truly indicative of the model's performance. You should wait to test the model performance on the test data before you feel confident about your model.</p>"
   ]
  },
  {
   "cell_type": "markdown",
   "id": "fab57db4-c7e8-4ff2-ac31-eea3f7eab64f",
   "metadata": {},
   "source": [
    "In this section, we make predictions on the training set and store them in the <b><i>insample_ predictions</i></b> variable. A confusion matrix is generated to gauge the robustness of the model. "
   ]
  },
  {
   "cell_type": "code",
   "execution_count": null,
   "id": "a7a4196f-226e-4c52-8a64-bc00535bc97c",
   "metadata": {},
   "outputs": [],
   "source": [
    "insample_predictions = model.predict(X_train)"
   ]
  },
  {
   "cell_type": "code",
   "execution_count": null,
   "id": "e131de89-a22d-4912-9f9b-6c7a12769c6c",
   "metadata": {},
   "outputs": [],
   "source": [
    "print(\"Insample Accuracy {0:.2f}%\".format(100*accuracy_score(insample_predictions,y_train)))\n",
    "print(classification_report(insample_predictions,y_train))"
   ]
  },
  {
   "cell_type": "markdown",
   "id": "e847aa72-37b8-498b-bd63-4130d1366b7e",
   "metadata": {},
   "source": [
    "<p> For plotting a confusion matrix we define the function <b><i>plot_confusion_matrix</i></b>."
   ]
  },
  {
   "cell_type": "code",
   "execution_count": null,
   "id": "bb97e054-6e73-4d90-89e2-36ce094721f5",
   "metadata": {},
   "outputs": [],
   "source": [
    "def plot_confusion_matrix(true_value,predicted_value,title,labels):\n",
    "    '''\n",
    "    Plots a confusion matrix.\n",
    "    Attributes:\n",
    "    true_value - The ground truth value for comparision.\n",
    "    predicted_value - The values predicted by the model.\n",
    "    title - Title of the plot.\n",
    "    labels - The x and y labels of the plot.\n",
    "    '''\n",
    "    cm = confusion_matrix(true_value,predicted_value)\n",
    "    ax= plt.subplot()\n",
    "    sns.heatmap(cm, annot=True, fmt='g', ax=ax, cmap='Blues');\n",
    "    ax.set_xlabel('Predicted labels');\n",
    "    ax.set_ylabel('True labels'); \n",
    "    ax.set_title(title); \n",
    "    ax.xaxis.set_ticklabels(labels); \n",
    "    ax.yaxis.set_ticklabels(labels);"
   ]
  },
  {
   "cell_type": "code",
   "execution_count": null,
   "id": "99c77326-b7d5-4dc4-8101-96bece8aceb2",
   "metadata": {},
   "outputs": [],
   "source": [
    "plot_confusion_matrix(y_train,insample_predictions,\"Model Level 1: Logistic\\nRegression Model In-Sample Results\",['Rice', 'Non Rice'])"
   ]
  },
  {
   "cell_type": "markdown",
   "id": "e4fd9f2d-1add-499a-b692-f616ec02871d",
   "metadata": {},
   "source": [
    "### Out-Sample Evaluation"
   ]
  },
  {
   "cell_type": "markdown",
   "id": "5a9e1681-0cae-42c1-ad00-0ad3bb7eca71",
   "metadata": {},
   "source": [
    "When evaluating a machine learning model, it is essential to correctly and fairly evaluate the model's ability to generalize. This is because models have a tendency to overfit the dataset they are trained on. To estimate the out-of-sample performance, we will predict on the test data now. "
   ]
  },
  {
   "cell_type": "code",
   "execution_count": null,
   "id": "0d7324d1-35fd-463f-9734-f2ad1552ae52",
   "metadata": {},
   "outputs": [],
   "source": [
    "outsample_predictions = model.predict(X_test)"
   ]
  },
  {
   "cell_type": "code",
   "execution_count": null,
   "id": "4fdec320-a85c-49b9-8177-a65d5b85317a",
   "metadata": {},
   "outputs": [],
   "source": [
    "print(\"Accuracy {0:.2f}%\".format(100*accuracy_score(outsample_predictions, y_test)))\n",
    "print(classification_report(y_test, outsample_predictions))"
   ]
  },
  {
   "cell_type": "code",
   "execution_count": null,
   "id": "da5ed827-f3b8-47a2-865c-61bd2cd9621c",
   "metadata": {},
   "outputs": [],
   "source": [
    "plot_confusion_matrix(y_test, outsample_predictions,\"Model Level 1: Logistic\\nRegression Model Out-Sample Results\",['Rice', 'Non Rice'])"
   ]
  },
  {
   "cell_type": "markdown",
   "id": "0f0bd4a4-5976-4a37-8f5b-fe46cf841e1f",
   "metadata": {},
   "source": [
    "From the above, we see that the model is able to achieve an F1 score of <b>0.57</b>. This is not a very good score, so your goal is to improve this score.  "
   ]
  },
  {
   "cell_type": "markdown",
   "id": "2629f3f5-5a51-45d7-9c68-75b969101405",
   "metadata": {},
   "source": [
    "## Submission"
   ]
  },
  {
   "cell_type": "markdown",
   "id": "287c178f-1113-4456-b1c6-3188273bc1f3",
   "metadata": {},
   "source": [
    "Once you are happy with your model, you can make a submission. To make a submission, you will need to use your model to make predictions about the presence of rice crops for a set of test coordinates we have provided in the <a href=\"https://challenge.ey.com/api/v1/storage/admin-files/6847912254281276-63ca8b5ab12e510013520e2b-challenge_1_submission_template.csv\"><b>\"challenge_1_submission_template.csv\"</b></a> file and upload the file onto the challenge platform."
   ]
  },
  {
   "cell_type": "code",
   "execution_count": null,
   "id": "c0c5e29a-3bfa-4f5e-ac00-ffbf6b18033e",
   "metadata": {},
   "outputs": [],
   "source": [
    "## Get Sentinel-1-RTC Data\n",
    "time_slice = \"2020-03-20/2020-03-21\"\n",
    "assests = ['vh','vv']\n",
    "vh_vv = []\n",
    "for coordinates in tqdm(test_file['Latitude and Longitude']):\n",
    "    vh_vv.append(get_sentinel_data(coordinates,time_slice,assests))\n",
    "submission_vh_vv_data = pd.DataFrame(vh_vv,columns =['vh','vv'])"
   ]
  },
  {
   "cell_type": "code",
   "execution_count": null,
   "id": "08b02ce9-ef4b-4e96-b895-cabca85f2860",
   "metadata": {},
   "outputs": [],
   "source": [
    "submission_vh_vv_data.head()"
   ]
  },
  {
   "cell_type": "code",
   "execution_count": null,
   "id": "2cb45aca-974a-41e1-a522-36ca202d9af5",
   "metadata": {},
   "outputs": [],
   "source": [
    "# Feature Scaling \n",
    "submission_vh_vv_data = submission_vh_vv_data.values\n",
    "transformed_submission_data = sc.transform(submission_vh_vv_data)"
   ]
  },
  {
   "cell_type": "code",
   "execution_count": null,
   "id": "ecc34e3a-bfc1-49a0-94bb-ee1e540abe98",
   "metadata": {},
   "outputs": [],
   "source": [
    "#Making predictions\n",
    "final_predictions = model.predict(transformed_submission_data)\n",
    "final_prediction_series = pd.Series(final_predictions)"
   ]
  },
  {
   "cell_type": "code",
   "execution_count": null,
   "id": "0375e4cd-fdb0-4b82-8508-6ff022061cf9",
   "metadata": {},
   "outputs": [],
   "source": [
    "#Combining the results into dataframe\n",
    "submission_df = pd.DataFrame({'Latitude and Longitude':test_file['Latitude and Longitude'].values, 'Class of Land':final_prediction_series.values})"
   ]
  },
  {
   "cell_type": "code",
   "execution_count": null,
   "id": "1a1a563b-c0ed-4e2c-a7fe-08ad59cf1626",
   "metadata": {},
   "outputs": [],
   "source": [
    "#Displaying the sample submission dataframe\n",
    "display(submission_df)"
   ]
  },
  {
   "cell_type": "code",
   "execution_count": null,
   "id": "2fcec864-4da3-41e7-80da-b77e42a9d810",
   "metadata": {},
   "outputs": [],
   "source": [
    "#Dumping the predictions into a csv file.\n",
    "submission_df.to_csv(\"challenge_1_submission_rice_crop_prediction.csv\",index = False)"
   ]
  },
  {
   "cell_type": "markdown",
   "id": "094c2fba-5ecb-4ea5-a4a5-1fd6a74952cc",
   "metadata": {},
   "source": [
    "## Conclusion"
   ]
  },
  {
   "cell_type": "markdown",
   "id": "10632df0-a001-4932-8ef9-c7dc9023cc7f",
   "metadata": {},
   "source": [
    "Now that you have learned a basic approach to model training, it’s time to try your own approach! Feel free to modify any of the functions presented in this notebook. We look forward to seeing your version of the model and the results. Best of luck with the challenge!"
   ]
  }
 ],
 "metadata": {
  "kernelspec": {
   "display_name": "Python 3 (ipykernel)",
   "language": "python",
   "name": "python3"
  },
  "language_info": {
   "codemirror_mode": {
    "name": "ipython",
    "version": 3
   },
   "file_extension": ".py",
   "mimetype": "text/x-python",
   "name": "python",
   "nbconvert_exporter": "python",
   "pygments_lexer": "ipython3",
   "version": "3.9.13"
  },
  "vscode": {
   "interpreter": {
    "hash": "b0fa6594d8f4cbf19f97940f81e996739fb7646882a419484c72d19e05852a7e"
   }
  }
 },
 "nbformat": 4,
 "nbformat_minor": 5
}
